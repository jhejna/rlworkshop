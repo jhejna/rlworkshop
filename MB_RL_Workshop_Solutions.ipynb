{
  "nbformat": 4,
  "nbformat_minor": 0,
  "metadata": {
    "colab": {
      "name": "MB_RL_Workshop_Solutions.ipynb",
      "provenance": [],
      "collapsed_sections": [],
      "toc_visible": true,
      "include_colab_link": true
    },
    "kernelspec": {
      "name": "python3",
      "display_name": "Python 3"
    }
  },
  "cells": [
    {
      "cell_type": "markdown",
      "metadata": {
        "id": "view-in-github",
        "colab_type": "text"
      },
      "source": [
        "<a href=\"https://colab.research.google.com/github/jhejna/rlworkshop/blob/main/MB_RL_Workshop_Solutions.ipynb\" target=\"_parent\"><img src=\"https://colab.research.google.com/assets/colab-badge.svg\" alt=\"Open In Colab\"/></a>"
      ]
    },
    {
      "cell_type": "markdown",
      "metadata": {
        "id": "F-ez4n-EqKJI"
      },
      "source": [
        "# 0. Setup"
      ]
    },
    {
      "cell_type": "code",
      "metadata": {
        "id": "4MWYQII3qN2c",
        "colab": {
          "base_uri": "https://localhost:8080/"
        },
        "outputId": "868b9306-0a0d-48cc-a0a2-467c19c54558"
      },
      "source": [
        "%%bash\n",
        "# install required system dependencies\n",
        "apt-get install -y xvfb x11-utils\n",
        "# install required python dependencies (might need to install additional gym extras depending)\n",
        "pip install gym pyvirtualdisplay"
      ],
      "execution_count": null,
      "outputs": [
        {
          "output_type": "stream",
          "text": [
            "Reading package lists...\n",
            "Building dependency tree...\n",
            "Reading state information...\n",
            "The following additional packages will be installed:\n",
            "  libxxf86dga1\n",
            "Suggested packages:\n",
            "  mesa-utils\n",
            "The following NEW packages will be installed:\n",
            "  libxxf86dga1 x11-utils xvfb\n",
            "0 upgraded, 3 newly installed, 0 to remove and 14 not upgraded.\n",
            "Need to get 993 kB of archives.\n",
            "After this operation, 2,977 kB of additional disk space will be used.\n",
            "Get:1 http://archive.ubuntu.com/ubuntu bionic/main amd64 libxxf86dga1 amd64 2:1.1.4-1 [13.7 kB]\n",
            "Get:2 http://archive.ubuntu.com/ubuntu bionic/main amd64 x11-utils amd64 7.7+3build1 [196 kB]\n",
            "Get:3 http://archive.ubuntu.com/ubuntu bionic-updates/universe amd64 xvfb amd64 2:1.19.6-1ubuntu4.7 [783 kB]\n",
            "Fetched 993 kB in 1s (1,209 kB/s)\n",
            "Selecting previously unselected package libxxf86dga1:amd64.\r\n",
            "(Reading database ... \r(Reading database ... 5%\r(Reading database ... 10%\r(Reading database ... 15%\r(Reading database ... 20%\r(Reading database ... 25%\r(Reading database ... 30%\r(Reading database ... 35%\r(Reading database ... 40%\r(Reading database ... 45%\r(Reading database ... 50%\r(Reading database ... 55%\r(Reading database ... 60%\r(Reading database ... 65%\r(Reading database ... 70%\r(Reading database ... 75%\r(Reading database ... 80%\r(Reading database ... 85%\r(Reading database ... 90%\r(Reading database ... 95%\r(Reading database ... 100%\r(Reading database ... 144793 files and directories currently installed.)\r\n",
            "Preparing to unpack .../libxxf86dga1_2%3a1.1.4-1_amd64.deb ...\r\n",
            "Unpacking libxxf86dga1:amd64 (2:1.1.4-1) ...\r\n",
            "Selecting previously unselected package x11-utils.\r\n",
            "Preparing to unpack .../x11-utils_7.7+3build1_amd64.deb ...\r\n",
            "Unpacking x11-utils (7.7+3build1) ...\r\n",
            "Selecting previously unselected package xvfb.\r\n",
            "Preparing to unpack .../xvfb_2%3a1.19.6-1ubuntu4.7_amd64.deb ...\r\n",
            "Unpacking xvfb (2:1.19.6-1ubuntu4.7) ...\r\n",
            "Setting up xvfb (2:1.19.6-1ubuntu4.7) ...\r\n",
            "Setting up libxxf86dga1:amd64 (2:1.1.4-1) ...\r\n",
            "Setting up x11-utils (7.7+3build1) ...\r\n",
            "Processing triggers for man-db (2.8.3-2ubuntu0.1) ...\r\n",
            "Processing triggers for libc-bin (2.27-3ubuntu1.2) ...\r\n",
            "/sbin/ldconfig.real: /usr/local/lib/python3.6/dist-packages/ideep4py/lib/libmkldnn.so.0 is not a symbolic link\r\n",
            "\r\n",
            "Requirement already satisfied: gym in /usr/local/lib/python3.6/dist-packages (0.17.3)\n",
            "Collecting pyvirtualdisplay\n",
            "  Downloading https://files.pythonhosted.org/packages/d0/8a/643043cc70791367bee2d19eb20e00ed1a246ac48e5dbe57bbbcc8be40a9/PyVirtualDisplay-1.3.2-py2.py3-none-any.whl\n",
            "Requirement already satisfied: cloudpickle<1.7.0,>=1.2.0 in /usr/local/lib/python3.6/dist-packages (from gym) (1.3.0)\n",
            "Requirement already satisfied: scipy in /usr/local/lib/python3.6/dist-packages (from gym) (1.4.1)\n",
            "Requirement already satisfied: numpy>=1.10.4 in /usr/local/lib/python3.6/dist-packages (from gym) (1.18.5)\n",
            "Requirement already satisfied: pyglet<=1.5.0,>=1.4.0 in /usr/local/lib/python3.6/dist-packages (from gym) (1.5.0)\n",
            "Collecting EasyProcess\n",
            "  Downloading https://files.pythonhosted.org/packages/48/3c/75573613641c90c6d094059ac28adb748560d99bd27ee6f80cce398f404e/EasyProcess-0.3-py2.py3-none-any.whl\n",
            "Requirement already satisfied: future in /usr/local/lib/python3.6/dist-packages (from pyglet<=1.5.0,>=1.4.0->gym) (0.16.0)\n",
            "Installing collected packages: EasyProcess, pyvirtualdisplay\n",
            "Successfully installed EasyProcess-0.3 pyvirtualdisplay-1.3.2\n"
          ],
          "name": "stdout"
        }
      ]
    },
    {
      "cell_type": "code",
      "metadata": {
        "id": "WAhTEBJpqOe_"
      },
      "source": [
        "import pyvirtualdisplay\n",
        "_display = pyvirtualdisplay.Display(visible=False, size=(640, 480))\n",
        "_ = _display.start()"
      ],
      "execution_count": null,
      "outputs": []
    },
    {
      "cell_type": "code",
      "metadata": {
        "id": "FP9F1IS9qRPz",
        "colab": {
          "base_uri": "https://localhost:8080/"
        },
        "outputId": "27d71f11-8f90-4052-f00d-a087702dc3f5"
      },
      "source": [
        "!echo $DISPLAY"
      ],
      "execution_count": null,
      "outputs": [
        {
          "output_type": "stream",
          "text": [
            ":0\n"
          ],
          "name": "stdout"
        }
      ]
    },
    {
      "cell_type": "code",
      "metadata": {
        "id": "jL48oF2GqUws",
        "colab": {
          "base_uri": "https://localhost:8080/",
          "height": 265
        },
        "outputId": "6db7d49f-3536-44e8-bf05-898dbc72b117"
      },
      "source": [
        "# Test rendering a gym environment\n",
        "import gym\n",
        "import matplotlib.pyplot as plt\n",
        "from IPython import display\n",
        "\n",
        "env = gym.make('CartPole-v1')\n",
        "num_ep = 0\n",
        "obs = env.reset()\n",
        "img = plt.imshow(env.render(mode='rgb_array'))\n",
        "for _ in range(100):\n",
        "    ac = env.action_space.sample()\n",
        "    obs, reward, done, info = env.step(ac)\n",
        "    img.set_data(env.render(mode='rgb_array')) \n",
        "    plt.axis('off')\n",
        "    display.display(plt.gcf())\n",
        "    display.clear_output(wait=True)\n",
        "    if done:\n",
        "        obs = env.reset()\n",
        "        num_ep += 1\n",
        "env.close()\n",
        "del env\n",
        "del img\n",
        "print(\"Episodes:\", num_ep)"
      ],
      "execution_count": null,
      "outputs": [
        {
          "output_type": "stream",
          "text": [
            "Episodes: 4\n"
          ],
          "name": "stdout"
        },
        {
          "output_type": "display_data",
          "data": {
            "image/png": "[encoded data removed]",
            "text/plain": [
              "<Figure size 432x288 with 1 Axes>"
            ]
          },
          "metadata": {
            "tags": [],
            "needs_background": "light"
          }
        }
      ]
    },
    {
      "cell_type": "markdown",
      "metadata": {
        "id": "hpG3Oh4lqVZi"
      },
      "source": [
        "# 1. PETS\n",
        "For this workshop we will implement the Probablistic Ensembles with Trajectory Sampling (PETS) algorithm from \"Deep Reinforcement Learning in a Handful of Trials Using Probabilistic Models\"\n",
        "\n",
        "Here is a link to the paper: https://arxiv.org/abs/1805.12114\n",
        "\n",
        "The basic idea is this: learned dynamics models often accumulate a large amount of error that leads to bad plans. By planning through an ensemble, or collection of models, we can mitigate this error.\n",
        "\n",
        "Similar to the last workshop, we will work with the simple discrete cartpole environment.\n"
      ]
    },
    {
      "cell_type": "code",
      "metadata": {
        "id": "3fJCGDv0q7d1"
      },
      "source": [
        "# Import the required modules\n",
        "import torch\n",
        "from torch import nn\n",
        "from torch.nn import functional as F\n",
        "import numpy as np\n",
        "import gym"
      ],
      "execution_count": null,
      "outputs": []
    },
    {
      "cell_type": "markdown",
      "metadata": {
        "id": "Ce68ETolrC6C"
      },
      "source": [
        "## a) Dynamics Models\n",
        "PETS uses an ensemble of probablistic models. What does this mean?\n",
        "1. Rather than just predicting the next state, we predict a distribution over the possible next states. In the authors implementation, this takes the form of a diagonal multivariate gaussian distribution.\n",
        "2. Rather than having a single dynamics model and sampling from it during planning, we use an ensemble to reduce error.\n",
        "\n",
        "In this section, you will implement both a guassian dynamics model in the form of an MLP and an ensemble wrapper.\n",
        "\n",
        "Here are a few things to remember when making the dynamics model:\n",
        "1. The dynamics model takes in the state and action and predicts the next state. \n",
        "2. For the guassian model, we need to predict a mean and variance for each component of the state.\n",
        "3. Dynamics models generally perform better when they predict the delta to the next state. For example `next_state = prediction + state` "
      ]
    },
    {
      "cell_type": "code",
      "metadata": {
        "id": "U8hagUNXre9w"
      },
      "source": [
        "class GaussMLP(nn.Module):\n",
        "\n",
        "    def __init__(self, in_dim, out_dim, hidden_dims=[256, 256]):\n",
        "        super().__init__()\n",
        "        layers = []\n",
        "        last_layer_dim = in_dim\n",
        "        for layer in hidden_dims:\n",
        "            layers.append(nn.Linear(last_layer_dim, layer))\n",
        "            last_layer_dim = layer\n",
        "        self.extractor_layers = nn.ModuleList(layers)\n",
        "        self.output_layer = nn.Linear(last_layer_dim, out_dim*2)\n",
        "\n",
        "        self.max_logvar = nn.Parameter(torch.ones(1, out_dim, dtype=torch.float32) / 2.0)\n",
        "        self.min_logvar = nn.Parameter(- torch.ones(1, out_dim, dtype=torch.float32) * 10.0)\n",
        "\n",
        "    def forward(self, x):\n",
        "        for layer in self.extractor_layers:\n",
        "            x = layer(x)\n",
        "            x = x * torch.sigmoid(x)\n",
        "        mu, logvar = torch.chunk(self.output_layer(x), 2, dim=1)\n",
        "        # Note, authors use softplus here and bound it.\n",
        "        logvar = self.max_logvar - F.softplus(self.max_logvar - logvar)\n",
        "        logvar = self.min_logvar + F.softplus(logvar - self.min_logvar)\n",
        "        return mu, logvar\n",
        "    \n",
        "class GaussEnsemble(nn.Module):\n",
        "\n",
        "    def __init__(self, in_dim, out_dim, ensemble_size, hidden_dims=[256, 256]):\n",
        "\n",
        "        self.models = nn.ModuleList([GaussMLP(in_dim, out_dim, hidden_dims=hidden_dims) for _ in range(ensemble_size)])\n",
        "\n",
        "    def forward(self, x):\n",
        "        means, logvars = [], []\n",
        "        for model in self.models:\n",
        "            mean, logvar = model(x)\n",
        "            means.append(mean)\n",
        "            logvars.append(logvar)\n",
        "        return means, logvars\n",
        "\n",
        "    "
      ],
      "execution_count": null,
      "outputs": []
    },
    {
      "cell_type": "markdown",
      "metadata": {
        "id": "1eiwP9t0rjw0"
      },
      "source": [
        "## b) Environment Setup\n",
        "In model based reinforcement learning, we plan using the reward function. For example, in random shooting, trajectory optimization we will later implement, you rank different action sequences by the sum of their rewards. This means that we will need access to the reward function. By default, this isnt provided in gym, so I have provided it here."
      ]
    },
    {
      "cell_type": "code",
      "metadata": {
        "id": "S5Q3-cEFrhit"
      },
      "source": [
        "def reward_function(state):\n",
        "    x = state[:, 0]\n",
        "    theta = state[:, 2]\n",
        "    theta_thres = 12 * 2 * math.pi / 360\n",
        "\n",
        "    x_done = np.logical_or(x < -2.4, x > 2.4)\n",
        "    theta_done = np.logical_or(theta < -theta_thres, theta > theta_thres)\n",
        "\n",
        "    done = np.logical_or(x_done, theta_done)\n",
        "    return 1 - done"
      ],
      "execution_count": null,
      "outputs": []
    },
    {
      "cell_type": "markdown",
      "metadata": {
        "id": "3ZJOcc5esTEA"
      },
      "source": [
        "Next, we need to collect data from the environment. In model based RL it's nice to package this in a single function instead of having it in your training loop. We haven't talked about how you actually plan in the environment yet, so we'll assume that you have some `act_fn` that when provided an observation will predict the next action you take. For example `action = act_fn(observation)`\n",
        "\n",
        "The `collect_data` function will take in an environment, an `act_fn`, and a number of `timesteps`, and use the `act_fn` to collect data for the specified number of timesteps. \n",
        "\n",
        "You should be able to figure out how to do this from the model free RL workshop training loop or testing functions. It's nice to log values here so you can see how your policy does."
      ]
    },
    {
      "cell_type": "code",
      "metadata": {
        "id": "R3kv0lHysRG_"
      },
      "source": [
        "def collect_data(env, act_fn, timesteps):\n",
        "    inputs = np.zeros((timesteps, 6))\n",
        "    targets = np.zeros((timesteps, 4))\n",
        "\n",
        "    obs = env.reset()\n",
        "    ep_rewards = []\n",
        "    ep_reward = 0\n",
        "    for i in range(timesteps):\n",
        "        pred_ac = act_fn(obs)\n",
        "        next_obs, reward, done, _ = env.step(pred_ac)\n",
        "        ac = np.zeros(2)\n",
        "        ac[pred_ac] = 1\n",
        "        inputs[i] = np.concatenate((obs, ac))\n",
        "        targets[i] = next_obs\n",
        "        ep_reward += reward\n",
        "        if done:\n",
        "            print(\"Episode Reward\", ep_reward)\n",
        "            ep_rewards.append(ep_reward)\n",
        "            ep_reward = 0\n",
        "            obs = env.reset()\n",
        "        else:\n",
        "            obs = next_obs\n",
        "    if len(ep_rewards) == 0:\n",
        "        print(\"Total Ep Reward\", ep_reward)\n",
        "    else:\n",
        "        print(\"Last Ep Reward\", ep_rewards[-1])\n",
        "    return inputs, targets"
      ],
      "execution_count": null,
      "outputs": []
    },
    {
      "cell_type": "markdown",
      "metadata": {
        "id": "W3tTf9bVtVwc"
      },
      "source": [
        "## c) MPC Planning with Random Shooting\n",
        "MPC, or model predictive control, is a way of using dynamics models and a reward function to predict the action that should be taken in an environment. We will implement random shooting in particular.\n",
        "\n",
        "In random shooting, a number of random trajectories are sampled. Each trajectory is then assigned a total reward using the reward function. Finally, the tracjectory with the highest reward is selected and the first action is used.\n",
        "\n",
        "Alone, random shooting, well sucks. PETS utilizes the ensemble of probablistic models to make it not so bad. In the paper, they use a more complicated algorithm called the cross entropy method that we will not get into here :).\n",
        "\n",
        "In this section, implement random shooting for PETS. This will require the following modifications in addition to regular random shooting:\n",
        "1. Randomly sampling next states using the probablity distribution output by a given model.\n",
        "2. Compute rewards for each trajectory under all of the different models. Average the final reward across all dynamics models in the ensemble to get a better estimate.\n",
        "\n",
        "Keep in mind that the slowest part of training our model is now planning. It's crucial that your implementation of random shooting predicts next states for all samples in parallel (ie one large batch). Otherwise, you will be waiting years for everything to finish.\n",
        "\n",
        "Warning: this is by far the hardest part of the PETS algorithm :)"
      ]
    },
    {
      "cell_type": "code",
      "metadata": {
        "id": "9BlrjlEVt7wV"
      },
      "source": [
        "def act(obs, models, reward_fn, horizon):\n",
        "    # Generate plans of length \"Horizon\"\n",
        "    # Each model predicts a cost over acting for horizon timesteps.\n",
        "    possibilities = np.eye(2)\n",
        "    num_samples = 100\n",
        "    solutions = np.eye(2)[np.random.choice(2, num_samples*horizon)].reshape((num_samples, horizon, 2))\n",
        "    obs = torch.from_numpy(np.tile(obs, (num_samples, len(models), 1))).float()\n",
        "    rewards = np.zeros((num_samples, len(models)))\n",
        "    for i in range(horizon):\n",
        "        # Construct input for the models.\n",
        "        ac = torch.from_numpy(np.tile(solutions[:, i:i+1, :], (1, len(models), 1))).float()\n",
        "        inputs = torch.cat((obs, ac), dim=-1)\n",
        "        with torch.no_grad():\n",
        "            for j, model in enumerate(models):\n",
        "                mean, logvar = model(inputs[:, j, :])\n",
        "                prediction = mean + torch.randn_like(mean) * torch.exp(logvar).sqrt()\n",
        "                prediction = prediction + obs[:, j, :]\n",
        "                rewards[:, j] += reward_fn(prediction).cpu().numpy()\n",
        "                obs[:, j, :] = prediction\n",
        "    # Compute average returns of the trajectories\n",
        "    avg_returns = np.mean(rewards, axis=1)\n",
        "    best_traj = np.argmax(avg_returns)\n",
        "    best_ac = np.argmax(solutions[best_traj, 0, :])\n",
        "    return best_ac"
      ],
      "execution_count": null,
      "outputs": []
    },
    {
      "cell_type": "markdown",
      "metadata": {
        "id": "aoNFyWk9w9mp"
      },
      "source": [
        "## d) Training Loop\n",
        "Implement the training loop for the algorithm. This should be done in two phases:\n",
        "1. Collect data\n",
        "2. Train the models\n",
        "\n",
        "Usually, models are initiallized using a few random episodes and warmed up before trying to plan.\n",
        "\n",
        "Look at the PETS paper to determine what the loss should be. Hint: It should have something for both the mean and variance. Its fine if the loss becomes negative due to the variance term."
      ]
    },
    {
      "cell_type": "code",
      "metadata": {
        "id": "oud4FDeIxBTe",
        "colab": {
          "base_uri": "https://localhost:8080/",
          "height": 1000
        },
        "outputId": "9ff26619-ecb2-4736-d5de-5908a1a73191"
      },
      "source": [
        "import math\n",
        "\n",
        "env = gym.make(\"CartPole-v1\")\n",
        "# State Dim is 2, action is one hot of size 2\n",
        "batch_size = 64\n",
        "epochs = 2\n",
        "iterations = 15\n",
        "timesteps = 400\n",
        "horizon = 10\n",
        "\n",
        "models = [GaussMLP(4+2, 4) for i in range(5)]\n",
        "parameters = []\n",
        "for model in models:\n",
        "    parameters.extend(model.parameters())\n",
        "optim = torch.optim.Adam(parameters, lr=0.001)\n",
        "\n",
        "# Collect initial data and train.\n",
        "inputs, targets = collect_data(env, lambda x: env.action_space.sample(), timesteps)\n",
        "\n",
        "for i in range(iterations):\n",
        "    \n",
        "    for _ in range(epochs):\n",
        "        perm = np.random.permutation(len(inputs))\n",
        "        num_full_batches = len(perm) // batch_size\n",
        "        for i in range(num_full_batches + 1):\n",
        "            if i != num_full_batches:\n",
        "                inds = perm[i*batch_size:(i+1)*batch_size]\n",
        "            else:\n",
        "                inds = perm[i*batch_size:]\n",
        "            x = torch.from_numpy(inputs[inds]).float()\n",
        "            y = torch.from_numpy(targets[inds]).float()\n",
        "\n",
        "            loss = 0.0\n",
        "            for model in models:\n",
        "                mean, logvar = model(x)\n",
        "                loss += torch.mean(((mean - y)**2) * torch.exp(-logvar) + logvar)\n",
        "            \n",
        "            optim.zero_grad()\n",
        "            loss.backward()\n",
        "            optim.step()\n",
        "        print(\"Loss\", loss.item())\n",
        "    # Collect new data\n",
        "    new_inputs, new_targets = collect_data(env, lambda obs: act(obs, models, reward_function, horizon), timesteps)\n",
        "    inputs = np.concatenate((inputs, new_inputs), axis=0)\n",
        "    targets = np.concatenate((targets, new_targets), axis=0)"
      ],
      "execution_count": null,
      "outputs": [
        {
          "output_type": "stream",
          "text": [
            "Episode Reward 16.0\n",
            "Episode Reward 18.0\n",
            "Episode Reward 38.0\n",
            "Episode Reward 87.0\n",
            "Episode Reward 29.0\n",
            "Episode Reward 30.0\n",
            "Episode Reward 19.0\n",
            "Episode Reward 12.0\n",
            "Episode Reward 15.0\n",
            "Episode Reward 15.0\n",
            "Episode Reward 34.0\n",
            "Episode Reward 37.0\n",
            "Episode Reward 11.0\n",
            "Episode Reward 14.0\n",
            "Episode Reward 16.0\n",
            "Last Ep Reward 16.0\n",
            "Loss -2.508418560028076\n",
            "Loss -4.8170390129089355\n",
            "Episode Reward 17.0\n",
            "Episode Reward 38.0\n",
            "Episode Reward 12.0\n",
            "Episode Reward 24.0\n",
            "Episode Reward 19.0\n",
            "Episode Reward 69.0\n",
            "Episode Reward 17.0\n",
            "Episode Reward 57.0\n",
            "Episode Reward 20.0\n",
            "Episode Reward 19.0\n",
            "Episode Reward 77.0\n",
            "Last Ep Reward 77.0\n",
            "Loss -14.063005447387695\n",
            "Loss -22.614952087402344\n",
            "Episode Reward 180.0\n",
            "Episode Reward 215.0\n",
            "Last Ep Reward 215.0\n",
            "Loss -26.553691864013672\n",
            "Loss -23.265932083129883\n",
            "Episode Reward 370.0\n",
            "Last Ep Reward 370.0\n",
            "Loss nan\n",
            "Loss nan\n",
            "Episode Reward 268.0\n",
            "Last Ep Reward 268.0\n",
            "Loss -29.22855567932129\n",
            "Loss -35.8186149597168\n",
            "Episode Reward 247.0\n",
            "Last Ep Reward 247.0\n",
            "Loss -37.23290252685547\n",
            "Loss -35.81805419921875\n",
            "Episode Reward 21.0\n",
            "Episode Reward 142.0\n",
            "Episode Reward 47.0\n",
            "Episode Reward 46.0\n",
            "Episode Reward 37.0\n",
            "Last Ep Reward 37.0\n",
            "Loss -37.29478073120117\n",
            "Loss -30.714927673339844\n",
            "Episode Reward 235.0\n",
            "Last Ep Reward 235.0\n",
            "Loss nan\n",
            "Loss nan\n",
            "Episode Reward 119.0\n",
            "Episode Reward 150.0\n",
            "Last Ep Reward 150.0\n",
            "Loss -40.08358383178711\n",
            "Loss -41.94854736328125\n"
          ],
          "name": "stdout"
        },
        {
          "output_type": "error",
          "ename": "KeyboardInterrupt",
          "evalue": "ignored",
          "traceback": [
            "\u001b[0;31m---------------------------------------------------------------------------\u001b[0m",
            "\u001b[0;31mKeyboardInterrupt\u001b[0m                         Traceback (most recent call last)",
            "\u001b[0;32m<ipython-input-13-ec200b4f5330>\u001b[0m in \u001b[0;36m<module>\u001b[0;34m()\u001b[0m\n\u001b[1;32m     41\u001b[0m         \u001b[0mprint\u001b[0m\u001b[0;34m(\u001b[0m\u001b[0;34m\"Loss\"\u001b[0m\u001b[0;34m,\u001b[0m \u001b[0mloss\u001b[0m\u001b[0;34m.\u001b[0m\u001b[0mitem\u001b[0m\u001b[0;34m(\u001b[0m\u001b[0;34m)\u001b[0m\u001b[0;34m)\u001b[0m\u001b[0;34m\u001b[0m\u001b[0;34m\u001b[0m\u001b[0m\n\u001b[1;32m     42\u001b[0m     \u001b[0;31m# Collect new data\u001b[0m\u001b[0;34m\u001b[0m\u001b[0;34m\u001b[0m\u001b[0;34m\u001b[0m\u001b[0m\n\u001b[0;32m---> 43\u001b[0;31m     \u001b[0mnew_inputs\u001b[0m\u001b[0;34m,\u001b[0m \u001b[0mnew_targets\u001b[0m \u001b[0;34m=\u001b[0m \u001b[0mcollect_data\u001b[0m\u001b[0;34m(\u001b[0m\u001b[0menv\u001b[0m\u001b[0;34m,\u001b[0m \u001b[0;32mlambda\u001b[0m \u001b[0mobs\u001b[0m\u001b[0;34m:\u001b[0m \u001b[0mact\u001b[0m\u001b[0;34m(\u001b[0m\u001b[0mobs\u001b[0m\u001b[0;34m,\u001b[0m \u001b[0mmodels\u001b[0m\u001b[0;34m,\u001b[0m \u001b[0mreward_function\u001b[0m\u001b[0;34m,\u001b[0m \u001b[0mhorizon\u001b[0m\u001b[0;34m)\u001b[0m\u001b[0;34m,\u001b[0m \u001b[0mtimesteps\u001b[0m\u001b[0;34m)\u001b[0m\u001b[0;34m\u001b[0m\u001b[0;34m\u001b[0m\u001b[0m\n\u001b[0m\u001b[1;32m     44\u001b[0m     \u001b[0minputs\u001b[0m \u001b[0;34m=\u001b[0m \u001b[0mnp\u001b[0m\u001b[0;34m.\u001b[0m\u001b[0mconcatenate\u001b[0m\u001b[0;34m(\u001b[0m\u001b[0;34m(\u001b[0m\u001b[0minputs\u001b[0m\u001b[0;34m,\u001b[0m \u001b[0mnew_inputs\u001b[0m\u001b[0;34m)\u001b[0m\u001b[0;34m,\u001b[0m \u001b[0maxis\u001b[0m\u001b[0;34m=\u001b[0m\u001b[0;36m0\u001b[0m\u001b[0;34m)\u001b[0m\u001b[0;34m\u001b[0m\u001b[0;34m\u001b[0m\u001b[0m\n\u001b[1;32m     45\u001b[0m     \u001b[0mtargets\u001b[0m \u001b[0;34m=\u001b[0m \u001b[0mnp\u001b[0m\u001b[0;34m.\u001b[0m\u001b[0mconcatenate\u001b[0m\u001b[0;34m(\u001b[0m\u001b[0;34m(\u001b[0m\u001b[0mtargets\u001b[0m\u001b[0;34m,\u001b[0m \u001b[0mnew_targets\u001b[0m\u001b[0;34m)\u001b[0m\u001b[0;34m,\u001b[0m \u001b[0maxis\u001b[0m\u001b[0;34m=\u001b[0m\u001b[0;36m0\u001b[0m\u001b[0;34m)\u001b[0m\u001b[0;34m\u001b[0m\u001b[0;34m\u001b[0m\u001b[0m\n",
            "\u001b[0;32m<ipython-input-10-ec9f0c827d18>\u001b[0m in \u001b[0;36mcollect_data\u001b[0;34m(env, act_fn, timesteps)\u001b[0m\n\u001b[1;32m      7\u001b[0m     \u001b[0mep_reward\u001b[0m \u001b[0;34m=\u001b[0m \u001b[0;36m0\u001b[0m\u001b[0;34m\u001b[0m\u001b[0;34m\u001b[0m\u001b[0m\n\u001b[1;32m      8\u001b[0m     \u001b[0;32mfor\u001b[0m \u001b[0mi\u001b[0m \u001b[0;32min\u001b[0m \u001b[0mrange\u001b[0m\u001b[0;34m(\u001b[0m\u001b[0mtimesteps\u001b[0m\u001b[0;34m)\u001b[0m\u001b[0;34m:\u001b[0m\u001b[0;34m\u001b[0m\u001b[0;34m\u001b[0m\u001b[0m\n\u001b[0;32m----> 9\u001b[0;31m         \u001b[0mpred_ac\u001b[0m \u001b[0;34m=\u001b[0m \u001b[0mact_fn\u001b[0m\u001b[0;34m(\u001b[0m\u001b[0mobs\u001b[0m\u001b[0;34m)\u001b[0m\u001b[0;34m\u001b[0m\u001b[0;34m\u001b[0m\u001b[0m\n\u001b[0m\u001b[1;32m     10\u001b[0m         \u001b[0mnext_obs\u001b[0m\u001b[0;34m,\u001b[0m \u001b[0mreward\u001b[0m\u001b[0;34m,\u001b[0m \u001b[0mdone\u001b[0m\u001b[0;34m,\u001b[0m \u001b[0m_\u001b[0m \u001b[0;34m=\u001b[0m \u001b[0menv\u001b[0m\u001b[0;34m.\u001b[0m\u001b[0mstep\u001b[0m\u001b[0;34m(\u001b[0m\u001b[0mpred_ac\u001b[0m\u001b[0;34m)\u001b[0m\u001b[0;34m\u001b[0m\u001b[0;34m\u001b[0m\u001b[0m\n\u001b[1;32m     11\u001b[0m         \u001b[0mac\u001b[0m \u001b[0;34m=\u001b[0m \u001b[0mnp\u001b[0m\u001b[0;34m.\u001b[0m\u001b[0mzeros\u001b[0m\u001b[0;34m(\u001b[0m\u001b[0;36m2\u001b[0m\u001b[0;34m)\u001b[0m\u001b[0;34m\u001b[0m\u001b[0;34m\u001b[0m\u001b[0m\n",
            "\u001b[0;32m<ipython-input-13-ec200b4f5330>\u001b[0m in \u001b[0;36m<lambda>\u001b[0;34m(obs)\u001b[0m\n\u001b[1;32m     41\u001b[0m         \u001b[0mprint\u001b[0m\u001b[0;34m(\u001b[0m\u001b[0;34m\"Loss\"\u001b[0m\u001b[0;34m,\u001b[0m \u001b[0mloss\u001b[0m\u001b[0;34m.\u001b[0m\u001b[0mitem\u001b[0m\u001b[0;34m(\u001b[0m\u001b[0;34m)\u001b[0m\u001b[0;34m)\u001b[0m\u001b[0;34m\u001b[0m\u001b[0;34m\u001b[0m\u001b[0m\n\u001b[1;32m     42\u001b[0m     \u001b[0;31m# Collect new data\u001b[0m\u001b[0;34m\u001b[0m\u001b[0;34m\u001b[0m\u001b[0;34m\u001b[0m\u001b[0m\n\u001b[0;32m---> 43\u001b[0;31m     \u001b[0mnew_inputs\u001b[0m\u001b[0;34m,\u001b[0m \u001b[0mnew_targets\u001b[0m \u001b[0;34m=\u001b[0m \u001b[0mcollect_data\u001b[0m\u001b[0;34m(\u001b[0m\u001b[0menv\u001b[0m\u001b[0;34m,\u001b[0m \u001b[0;32mlambda\u001b[0m \u001b[0mobs\u001b[0m\u001b[0;34m:\u001b[0m \u001b[0mact\u001b[0m\u001b[0;34m(\u001b[0m\u001b[0mobs\u001b[0m\u001b[0;34m,\u001b[0m \u001b[0mmodels\u001b[0m\u001b[0;34m,\u001b[0m \u001b[0mreward_function\u001b[0m\u001b[0;34m,\u001b[0m \u001b[0mhorizon\u001b[0m\u001b[0;34m)\u001b[0m\u001b[0;34m,\u001b[0m \u001b[0mtimesteps\u001b[0m\u001b[0;34m)\u001b[0m\u001b[0;34m\u001b[0m\u001b[0;34m\u001b[0m\u001b[0m\n\u001b[0m\u001b[1;32m     44\u001b[0m     \u001b[0minputs\u001b[0m \u001b[0;34m=\u001b[0m \u001b[0mnp\u001b[0m\u001b[0;34m.\u001b[0m\u001b[0mconcatenate\u001b[0m\u001b[0;34m(\u001b[0m\u001b[0;34m(\u001b[0m\u001b[0minputs\u001b[0m\u001b[0;34m,\u001b[0m \u001b[0mnew_inputs\u001b[0m\u001b[0;34m)\u001b[0m\u001b[0;34m,\u001b[0m \u001b[0maxis\u001b[0m\u001b[0;34m=\u001b[0m\u001b[0;36m0\u001b[0m\u001b[0;34m)\u001b[0m\u001b[0;34m\u001b[0m\u001b[0;34m\u001b[0m\u001b[0m\n\u001b[1;32m     45\u001b[0m     \u001b[0mtargets\u001b[0m \u001b[0;34m=\u001b[0m \u001b[0mnp\u001b[0m\u001b[0;34m.\u001b[0m\u001b[0mconcatenate\u001b[0m\u001b[0;34m(\u001b[0m\u001b[0;34m(\u001b[0m\u001b[0mtargets\u001b[0m\u001b[0;34m,\u001b[0m \u001b[0mnew_targets\u001b[0m\u001b[0;34m)\u001b[0m\u001b[0;34m,\u001b[0m \u001b[0maxis\u001b[0m\u001b[0;34m=\u001b[0m\u001b[0;36m0\u001b[0m\u001b[0;34m)\u001b[0m\u001b[0;34m\u001b[0m\u001b[0;34m\u001b[0m\u001b[0m\n",
            "\u001b[0;32m<ipython-input-11-442a9f7e6032>\u001b[0m in \u001b[0;36mact\u001b[0;34m(obs, models, reward_fn, horizon)\u001b[0m\n\u001b[1;32m     13\u001b[0m         \u001b[0;32mwith\u001b[0m \u001b[0mtorch\u001b[0m\u001b[0;34m.\u001b[0m\u001b[0mno_grad\u001b[0m\u001b[0;34m(\u001b[0m\u001b[0;34m)\u001b[0m\u001b[0;34m:\u001b[0m\u001b[0;34m\u001b[0m\u001b[0;34m\u001b[0m\u001b[0m\n\u001b[1;32m     14\u001b[0m             \u001b[0;32mfor\u001b[0m \u001b[0mj\u001b[0m\u001b[0;34m,\u001b[0m \u001b[0mmodel\u001b[0m \u001b[0;32min\u001b[0m \u001b[0menumerate\u001b[0m\u001b[0;34m(\u001b[0m\u001b[0mmodels\u001b[0m\u001b[0;34m)\u001b[0m\u001b[0;34m:\u001b[0m\u001b[0;34m\u001b[0m\u001b[0;34m\u001b[0m\u001b[0m\n\u001b[0;32m---> 15\u001b[0;31m                 \u001b[0mmean\u001b[0m\u001b[0;34m,\u001b[0m \u001b[0mlogvar\u001b[0m \u001b[0;34m=\u001b[0m \u001b[0mmodel\u001b[0m\u001b[0;34m(\u001b[0m\u001b[0minputs\u001b[0m\u001b[0;34m[\u001b[0m\u001b[0;34m:\u001b[0m\u001b[0;34m,\u001b[0m \u001b[0mj\u001b[0m\u001b[0;34m,\u001b[0m \u001b[0;34m:\u001b[0m\u001b[0;34m]\u001b[0m\u001b[0;34m)\u001b[0m\u001b[0;34m\u001b[0m\u001b[0;34m\u001b[0m\u001b[0m\n\u001b[0m\u001b[1;32m     16\u001b[0m                 \u001b[0mprediction\u001b[0m \u001b[0;34m=\u001b[0m \u001b[0mmean\u001b[0m \u001b[0;34m+\u001b[0m \u001b[0mtorch\u001b[0m\u001b[0;34m.\u001b[0m\u001b[0mrandn_like\u001b[0m\u001b[0;34m(\u001b[0m\u001b[0mmean\u001b[0m\u001b[0;34m)\u001b[0m \u001b[0;34m*\u001b[0m \u001b[0mtorch\u001b[0m\u001b[0;34m.\u001b[0m\u001b[0mexp\u001b[0m\u001b[0;34m(\u001b[0m\u001b[0mlogvar\u001b[0m\u001b[0;34m)\u001b[0m\u001b[0;34m.\u001b[0m\u001b[0msqrt\u001b[0m\u001b[0;34m(\u001b[0m\u001b[0;34m)\u001b[0m\u001b[0;34m\u001b[0m\u001b[0;34m\u001b[0m\u001b[0m\n\u001b[1;32m     17\u001b[0m                 \u001b[0mprediction\u001b[0m \u001b[0;34m=\u001b[0m \u001b[0mprediction\u001b[0m \u001b[0;34m+\u001b[0m \u001b[0mobs\u001b[0m\u001b[0;34m[\u001b[0m\u001b[0;34m:\u001b[0m\u001b[0;34m,\u001b[0m \u001b[0mj\u001b[0m\u001b[0;34m,\u001b[0m \u001b[0;34m:\u001b[0m\u001b[0;34m]\u001b[0m\u001b[0;34m\u001b[0m\u001b[0;34m\u001b[0m\u001b[0m\n",
            "\u001b[0;32m/usr/local/lib/python3.6/dist-packages/torch/nn/modules/module.py\u001b[0m in \u001b[0;36m_call_impl\u001b[0;34m(self, *input, **kwargs)\u001b[0m\n\u001b[1;32m    725\u001b[0m             \u001b[0mresult\u001b[0m \u001b[0;34m=\u001b[0m \u001b[0mself\u001b[0m\u001b[0;34m.\u001b[0m\u001b[0m_slow_forward\u001b[0m\u001b[0;34m(\u001b[0m\u001b[0;34m*\u001b[0m\u001b[0minput\u001b[0m\u001b[0;34m,\u001b[0m \u001b[0;34m**\u001b[0m\u001b[0mkwargs\u001b[0m\u001b[0;34m)\u001b[0m\u001b[0;34m\u001b[0m\u001b[0;34m\u001b[0m\u001b[0m\n\u001b[1;32m    726\u001b[0m         \u001b[0;32melse\u001b[0m\u001b[0;34m:\u001b[0m\u001b[0;34m\u001b[0m\u001b[0;34m\u001b[0m\u001b[0m\n\u001b[0;32m--> 727\u001b[0;31m             \u001b[0mresult\u001b[0m \u001b[0;34m=\u001b[0m \u001b[0mself\u001b[0m\u001b[0;34m.\u001b[0m\u001b[0mforward\u001b[0m\u001b[0;34m(\u001b[0m\u001b[0;34m*\u001b[0m\u001b[0minput\u001b[0m\u001b[0;34m,\u001b[0m \u001b[0;34m**\u001b[0m\u001b[0mkwargs\u001b[0m\u001b[0;34m)\u001b[0m\u001b[0;34m\u001b[0m\u001b[0;34m\u001b[0m\u001b[0m\n\u001b[0m\u001b[1;32m    728\u001b[0m         for hook in itertools.chain(\n\u001b[1;32m    729\u001b[0m                 \u001b[0m_global_forward_hooks\u001b[0m\u001b[0;34m.\u001b[0m\u001b[0mvalues\u001b[0m\u001b[0;34m(\u001b[0m\u001b[0;34m)\u001b[0m\u001b[0;34m,\u001b[0m\u001b[0;34m\u001b[0m\u001b[0;34m\u001b[0m\u001b[0m\n",
            "\u001b[0;32m<ipython-input-8-df0a1f4e6923>\u001b[0m in \u001b[0;36mforward\u001b[0;34m(self, x)\u001b[0m\n\u001b[1;32m     21\u001b[0m         \u001b[0;31m# Note, authors use softplus here and bound it.\u001b[0m\u001b[0;34m\u001b[0m\u001b[0;34m\u001b[0m\u001b[0;34m\u001b[0m\u001b[0m\n\u001b[1;32m     22\u001b[0m         \u001b[0mlogvar\u001b[0m \u001b[0;34m=\u001b[0m \u001b[0mself\u001b[0m\u001b[0;34m.\u001b[0m\u001b[0mmax_logvar\u001b[0m \u001b[0;34m-\u001b[0m \u001b[0mF\u001b[0m\u001b[0;34m.\u001b[0m\u001b[0msoftplus\u001b[0m\u001b[0;34m(\u001b[0m\u001b[0mself\u001b[0m\u001b[0;34m.\u001b[0m\u001b[0mmax_logvar\u001b[0m \u001b[0;34m-\u001b[0m \u001b[0mlogvar\u001b[0m\u001b[0;34m)\u001b[0m\u001b[0;34m\u001b[0m\u001b[0;34m\u001b[0m\u001b[0m\n\u001b[0;32m---> 23\u001b[0;31m         \u001b[0mlogvar\u001b[0m \u001b[0;34m=\u001b[0m \u001b[0mself\u001b[0m\u001b[0;34m.\u001b[0m\u001b[0mmin_logvar\u001b[0m \u001b[0;34m+\u001b[0m \u001b[0mF\u001b[0m\u001b[0;34m.\u001b[0m\u001b[0msoftplus\u001b[0m\u001b[0;34m(\u001b[0m\u001b[0mlogvar\u001b[0m \u001b[0;34m-\u001b[0m \u001b[0mself\u001b[0m\u001b[0;34m.\u001b[0m\u001b[0mmin_logvar\u001b[0m\u001b[0;34m)\u001b[0m\u001b[0;34m\u001b[0m\u001b[0;34m\u001b[0m\u001b[0m\n\u001b[0m\u001b[1;32m     24\u001b[0m         \u001b[0;32mreturn\u001b[0m \u001b[0mmu\u001b[0m\u001b[0;34m,\u001b[0m \u001b[0mlogvar\u001b[0m\u001b[0;34m\u001b[0m\u001b[0;34m\u001b[0m\u001b[0m\n\u001b[1;32m     25\u001b[0m \u001b[0;34m\u001b[0m\u001b[0m\n",
            "\u001b[0;32m/usr/local/lib/python3.6/dist-packages/torch/nn/modules/module.py\u001b[0m in \u001b[0;36m__getattr__\u001b[0;34m(self, name)\u001b[0m\n\u001b[1;32m    765\u001b[0m     \u001b[0;32mdef\u001b[0m \u001b[0m__getattr__\u001b[0m\u001b[0;34m(\u001b[0m\u001b[0mself\u001b[0m\u001b[0;34m,\u001b[0m \u001b[0mname\u001b[0m\u001b[0;34m:\u001b[0m \u001b[0mstr\u001b[0m\u001b[0;34m)\u001b[0m \u001b[0;34m->\u001b[0m \u001b[0mUnion\u001b[0m\u001b[0;34m[\u001b[0m\u001b[0mTensor\u001b[0m\u001b[0;34m,\u001b[0m \u001b[0;34m'Module'\u001b[0m\u001b[0;34m]\u001b[0m\u001b[0;34m:\u001b[0m\u001b[0;34m\u001b[0m\u001b[0;34m\u001b[0m\u001b[0m\n\u001b[1;32m    766\u001b[0m         \u001b[0;32mif\u001b[0m \u001b[0;34m'_parameters'\u001b[0m \u001b[0;32min\u001b[0m \u001b[0mself\u001b[0m\u001b[0;34m.\u001b[0m\u001b[0m__dict__\u001b[0m\u001b[0;34m:\u001b[0m\u001b[0;34m\u001b[0m\u001b[0;34m\u001b[0m\u001b[0m\n\u001b[0;32m--> 767\u001b[0;31m             \u001b[0m_parameters\u001b[0m \u001b[0;34m=\u001b[0m \u001b[0mself\u001b[0m\u001b[0;34m.\u001b[0m\u001b[0m__dict__\u001b[0m\u001b[0;34m[\u001b[0m\u001b[0;34m'_parameters'\u001b[0m\u001b[0;34m]\u001b[0m\u001b[0;34m\u001b[0m\u001b[0;34m\u001b[0m\u001b[0m\n\u001b[0m\u001b[1;32m    768\u001b[0m             \u001b[0;32mif\u001b[0m \u001b[0mname\u001b[0m \u001b[0;32min\u001b[0m \u001b[0m_parameters\u001b[0m\u001b[0;34m:\u001b[0m\u001b[0;34m\u001b[0m\u001b[0;34m\u001b[0m\u001b[0m\n\u001b[1;32m    769\u001b[0m                 \u001b[0;32mreturn\u001b[0m \u001b[0m_parameters\u001b[0m\u001b[0;34m[\u001b[0m\u001b[0mname\u001b[0m\u001b[0;34m]\u001b[0m\u001b[0;34m\u001b[0m\u001b[0;34m\u001b[0m\u001b[0m\n",
            "\u001b[0;31mKeyboardInterrupt\u001b[0m: "
          ]
        }
      ]
    },
    {
      "cell_type": "markdown",
      "metadata": {
        "id": "-eDppBk8xNyH"
      },
      "source": [
        "## e) Tuning\n",
        "Play with the hyper-parameters and see how high you can get the reward!\n",
        "\n",
        "Model based RL is _even_ more unstable than model free RL :). Good luck!\n",
        "\n",
        "Within a around 75 episodes I was able to get a reward of over 350, though my implementation was pretty unstable and tended to crash :P. This is the problem with using random shooting! My loss nanned a few times, this can be fixed by better controlling the variance term of the loss."
      ]
    },
    {
      "cell_type": "code",
      "metadata": {
        "id": "-29lHAivxZfl"
      },
      "source": [
        ""
      ],
      "execution_count": null,
      "outputs": []
    },
    {
      "cell_type": "markdown",
      "metadata": {
        "id": "RjOYfbexY3fR"
      },
      "source": [
        "# 2. VAEs and World Models\n",
        "\n",
        "In this section you'll implement a very simple VAE that could be used in some type of world model for MB RL from images. Though typically you would do this by collecting data from environments, we will do this on the MNIST dataset for simplicity.\n",
        "\n",
        "Here is the link to the original VAE Paper:\n",
        "https://arxiv.org/pdf/1312.6114.pdf\n",
        "\n",
        "And the world models paper: https://arxiv.org/abs/1803.10122\n"
      ]
    },
    {
      "cell_type": "markdown",
      "metadata": {
        "id": "YNbxGWA7ula2"
      },
      "source": [
        "## a) Data Collection\n",
        "\n",
        "Note sometimes this tends to error because of the display environment being buggy in colab. If it crashes, go ahead and re-run the set display block at the top of the noteobok."
      ]
    },
    {
      "cell_type": "code",
      "metadata": {
        "id": "LniJixhFZ0pn"
      },
      "source": [
        "import gym\n",
        "import numpy as np\n",
        "from PIL import Image, ImageOps\n",
        "\n",
        "env = gym.make('CartPole-v1')\n",
        "data = []\n",
        "data_size = 2000\n",
        "\n",
        "obs = env.reset()\n",
        "ac = 0\n",
        "for _ in range(data_size):\n",
        "    if np.random.rand() < 0.5:\n",
        "        ac = env.action_space.sample()\n",
        "    obs, reward, done, info = env.step(ac)\n",
        "    img = Image.fromarray(env.render(mode='rgb_array'))\n",
        "    img_gray = ImageOps.grayscale(img)\n",
        "    img_resize = img_gray.resize((56,56))\n",
        "    img_crop = img_resize.crop((8,8, 48, 48))\n",
        "    data.append(np.array(img_crop))\n",
        "    if done:\n",
        "        obs = env.reset()\n",
        "env.close()\n",
        "del env\n",
        "del img\n"
      ],
      "execution_count": null,
      "outputs": []
    },
    {
      "cell_type": "code",
      "metadata": {
        "colab": {
          "base_uri": "https://localhost:8080/",
          "height": 767
        },
        "id": "cDV8RgOZb3SY",
        "outputId": "9f25b81a-ff33-4a2a-94d2-cef9ce827fb6"
      },
      "source": [
        "# Now Shuffle the data, and visualize some images\n",
        "data = np.array(data)\n",
        "np.random.shuffle(data)\n",
        "\n",
        "# Visualize some random images\n",
        "from matplotlib import pyplot as plt\n",
        "plt.imshow(data[0], cmap='gray')\n",
        "plt.show()\n",
        "plt.imshow(data[1], cmap='gray')\n",
        "plt.show()\n",
        "plt.imshow(data[2], cmap='gray')\n",
        "plt.show()"
      ],
      "execution_count": null,
      "outputs": [
        {
          "output_type": "display_data",
          "data": {
            "image/png": "[encoded data removed]",
            "text/plain": [
              "<Figure size 432x288 with 1 Axes>"
            ]
          },
          "metadata": {
            "tags": [],
            "needs_background": "light"
          }
        },
        {
          "output_type": "display_data",
          "data": {
            "image/png": "[encoded data removed]",
            "text/plain": [
              "<Figure size 432x288 with 1 Axes>"
            ]
          },
          "metadata": {
            "tags": [],
            "needs_background": "light"
          }
        },
        {
          "output_type": "display_data",
          "data": {
            "image/png": "[encoded data removed]",
            "text/plain": [
              "<Figure size 432x288 with 1 Axes>"
            ]
          },
          "metadata": {
            "tags": [],
            "needs_background": "light"
          }
        }
      ]
    },
    {
      "cell_type": "code",
      "metadata": {
        "colab": {
          "base_uri": "https://localhost:8080/"
        },
        "id": "212fpl7fc8_D",
        "outputId": "c9ac175c-e68b-4f82-8e1a-4bf3cd9e8060"
      },
      "source": [
        "# Normalize data between -1 and 1\n",
        "data = data / 255.0 # Between zero and one\n",
        "data *= 2 # Between zero and two\n",
        "data -= 1 # Between -1 and 1\n",
        "\n",
        "# Expand dims of data and reorder in order to fit pytorch image conventions N x C x W x H\n",
        "data = np.expand_dims(data, 1)\n",
        "print(\"Data Shape\", data.shape)\n",
        "\n",
        "np.save('data.npy', data)\n",
        "\n",
        "# Test loading the data\n",
        "data = np.load('data.npy')"
      ],
      "execution_count": null,
      "outputs": [
        {
          "output_type": "stream",
          "text": [
            "Data Shape (2000, 1, 40, 40)\n"
          ],
          "name": "stdout"
        }
      ]
    },
    {
      "cell_type": "markdown",
      "metadata": {
        "id": "CK2dJEgHjTQL"
      },
      "source": [
        "## b) Model Architectures\n",
        "\n",
        "Next, you need to define a simple convolutional architecture for the encoder and decoder. Here are things to consider:\n",
        "\n",
        "1. Choose an appropriate size for the latent z\n",
        "2. Remember that the encoder must predict both a mean and standard deviation.\n",
        "3. The standard deviation (or variance) must be a positive quantity!\n",
        "4. The encoder and decoder architectures should closely mirror eachother.\n"
      ]
    },
    {
      "cell_type": "code",
      "metadata": {
        "id": "ges7sEc2jZYs"
      },
      "source": [
        "import torch\n",
        "import numpy as np\n",
        "from torch import nn\n",
        "\n",
        "class Encoder(nn.Module):\n",
        "\n",
        "    def __init__(self, input_channels, latent_dim):\n",
        "        super().__init__()\n",
        "        self.latent_dim = latent_dim\n",
        "        self.extractor = nn.Sequential(\n",
        "            nn.Conv2d(input_channels, 16, kernel_size=3, stride=2, padding=0),\n",
        "            nn.ReLU(),\n",
        "            nn.Conv2d(16, 32, kernel_size=3, stride=2, padding=0),\n",
        "            nn.ReLU(),\n",
        "            nn.Conv2d(32, 64, kernel_size=3, stride=2, padding=0),\n",
        "            nn.ReLU(),\n",
        "            nn.Flatten(),\n",
        "            nn.Linear(1024, 2*latent_dim)\n",
        "        )\n",
        "\n",
        "    def forward(self, x):\n",
        "        x = self.extractor(x)\n",
        "        mu, logvar = torch.chunk(x, 2, dim=1)\n",
        "        return mu, logvar\n",
        "\n",
        "class Decoder(nn.Module):\n",
        "\n",
        "    def __init__(self, output_channels, latent_dim):\n",
        "        super().__init__()\n",
        "        self.latent_dim = latent_dim\n",
        "        self.linear = nn.Linear(latent_dim, 1024)\n",
        "        self.extractor = nn.Sequential(\n",
        "            nn.ReLU(),\n",
        "            nn.ConvTranspose2d(64, 32, kernel_size=3, stride=2, padding=0),\n",
        "            nn.ReLU(),\n",
        "            nn.ConvTranspose2d(32, 16, kernel_size=3, stride=2, padding=0),\n",
        "            nn.ReLU(),\n",
        "            nn.ConvTranspose2d(16, output_channels, kernel_size=3, stride=2, padding=0, output_padding=1),\n",
        "            nn.Tanh(), # Add Tanh activation at end to bond inputs / outputs\n",
        "        )\n",
        "\n",
        "    def forward(self, x):\n",
        "        x = self.linear(x)\n",
        "        x = x.reshape(-1, 64, 4, 4)\n",
        "        x = self.extractor(x)\n",
        "        return x\n",
        "\n",
        "class VAE(nn.Module):\n",
        "\n",
        "    def __init__(self, channels, latent_dim):\n",
        "        super().__init__()\n",
        "        self.encoder = Encoder(channels, latent_dim)\n",
        "        self.decoder = Decoder(channels, latent_dim)\n",
        "\n",
        "    def forward(self, x):\n",
        "        mu, logvar = self.encoder(x)\n",
        "        eps = torch.randn_like(mu)\n",
        "        z = mu + eps*torch.exp(0.5*logvar)\n",
        "        # Now feed z through the decoder\n",
        "        x_hat = self.decoder(z)\n",
        "        assert x_hat.shape == x.shape\n",
        "\n",
        "        # Compute the KLD and the MSE\n",
        "        KLD = -0.5 * torch.sum(1 + logvar - mu.pow(2) - logvar.exp())\n",
        "        SE = torch.sum((x - x_hat)**2, dim=(1,2,3))\n",
        "        MSE = torch.mean(SE)\n",
        "\n",
        "        loss = MSE + KLD\n",
        "        return loss"
      ],
      "execution_count": null,
      "outputs": []
    },
    {
      "cell_type": "markdown",
      "metadata": {
        "id": "-Cmuv8ptq123"
      },
      "source": [
        "## c) Training Loop\n",
        "Now we code the training loop. We can do this really easily with pytorch data loaders!"
      ]
    },
    {
      "cell_type": "code",
      "metadata": {
        "colab": {
          "base_uri": "https://localhost:8080/"
        },
        "id": "-B1YkshIlNB6",
        "outputId": "b0191943-b3ea-4087-8046-1ffc13e2c6d4"
      },
      "source": [
        "batch_size = 128\n",
        "lr = 1e-3\n",
        "latent_dim = 16\n",
        "epochs = 50\n",
        "\n",
        "device = torch.device(\"cuda:0\" if torch.cuda.is_available() else \"cpu\")\n",
        "# create data loader\n",
        "data = np.load('data.npy')\n",
        "trainloader = torch.utils.data.DataLoader(data, batch_size=batch_size, shuffle=True)\n",
        "\n",
        "model = VAE(1, latent_dim)\n",
        "\n",
        "model.to(device)\n",
        "optimizer = torch.optim.Adam(model.parameters(), lr=lr)\n",
        "\n",
        "for epoch in range(epochs):\n",
        "    for batch in trainloader:\n",
        "        batch = batch.to(device).float()\n",
        "        optimizer.zero_grad()\n",
        "        loss = model(batch)\n",
        "        loss.backward()\n",
        "        optimizer.step()\n",
        "\n",
        "    print(\"Finished epoch\", epoch, \"loss\", loss.item())\n",
        "\n",
        "# Now let's generate some samples"
      ],
      "execution_count": null,
      "outputs": [
        {
          "output_type": "stream",
          "text": [
            "Finished epoch 0 loss 1058.80712890625\n",
            "Finished epoch 1 loss 299.910400390625\n",
            "Finished epoch 2 loss 186.0967559814453\n",
            "Finished epoch 3 loss 166.36074829101562\n",
            "Finished epoch 4 loss 158.68284606933594\n",
            "Finished epoch 5 loss 155.00149536132812\n",
            "Finished epoch 6 loss 153.71517944335938\n",
            "Finished epoch 7 loss 152.3987274169922\n",
            "Finished epoch 8 loss 150.95350646972656\n",
            "Finished epoch 9 loss 150.010498046875\n",
            "Finished epoch 10 loss 149.40382385253906\n",
            "Finished epoch 11 loss 148.57235717773438\n",
            "Finished epoch 12 loss 147.79588317871094\n",
            "Finished epoch 13 loss 147.5283660888672\n",
            "Finished epoch 14 loss 146.49386596679688\n",
            "Finished epoch 15 loss 145.9591522216797\n",
            "Finished epoch 16 loss 145.48780822753906\n",
            "Finished epoch 17 loss 145.2503204345703\n",
            "Finished epoch 18 loss 144.4003143310547\n",
            "Finished epoch 19 loss 143.68055725097656\n",
            "Finished epoch 20 loss 142.87315368652344\n",
            "Finished epoch 21 loss 142.33673095703125\n",
            "Finished epoch 22 loss 141.77294921875\n",
            "Finished epoch 23 loss 140.870849609375\n",
            "Finished epoch 24 loss 140.2882537841797\n",
            "Finished epoch 25 loss 139.12841796875\n",
            "Finished epoch 26 loss 137.3020477294922\n",
            "Finished epoch 27 loss 133.81478881835938\n",
            "Finished epoch 28 loss 124.61605834960938\n",
            "Finished epoch 29 loss 120.7286148071289\n",
            "Finished epoch 30 loss 114.72052001953125\n",
            "Finished epoch 31 loss 110.45784759521484\n",
            "Finished epoch 32 loss 101.32479858398438\n",
            "Finished epoch 33 loss 92.53136444091797\n",
            "Finished epoch 34 loss 87.91839599609375\n",
            "Finished epoch 35 loss 85.74893951416016\n",
            "Finished epoch 36 loss 82.50348663330078\n",
            "Finished epoch 37 loss 81.96717834472656\n",
            "Finished epoch 38 loss 82.70893859863281\n",
            "Finished epoch 39 loss 79.91405487060547\n",
            "Finished epoch 40 loss 80.11164855957031\n",
            "Finished epoch 41 loss 77.3092041015625\n",
            "Finished epoch 42 loss 78.31332397460938\n",
            "Finished epoch 43 loss 77.19002532958984\n",
            "Finished epoch 44 loss 76.37898254394531\n",
            "Finished epoch 45 loss 75.36492156982422\n",
            "Finished epoch 46 loss 75.83837890625\n",
            "Finished epoch 47 loss 72.66450500488281\n",
            "Finished epoch 48 loss 75.93414306640625\n",
            "Finished epoch 49 loss 72.83302307128906\n"
          ],
          "name": "stdout"
        }
      ]
    },
    {
      "cell_type": "markdown",
      "metadata": {
        "id": "Z5nZ4ZMJsJyP"
      },
      "source": [
        "## d) Evaluation\n",
        "\n",
        "Now assess the quality of the learned model by sampling from the latent (sampling z, then examining x_hat)\n",
        "\n",
        "Note that an easy way of displaying the images is torchvision makegrid, it does a lot of the deprocessing work for you! \n",
        "\n",
        "\n",
        "It won't be super good, but you should be able to see the base of the cart! If you mess with the architecture I'm sure you can get it to peform better!"
      ]
    },
    {
      "cell_type": "code",
      "metadata": {
        "colab": {
          "base_uri": "https://localhost:8080/",
          "height": 178
        },
        "id": "n9G-qiNTr3e-",
        "outputId": "4e9f1b4e-c2ca-45fe-a9cb-0e4adeb5855b"
      },
      "source": [
        "import torchvision\n",
        "from matplotlib import pyplot as plt\n",
        "from PIL import Image\n",
        "\n",
        "# Samples!\n",
        "num_samples = 24\n",
        "samples = model.decoder(torch.randn(num_samples, latent_dim).to(device)).detach().cpu()\n",
        "sample_grid = torchvision.utils.make_grid(samples)\n",
        "sample_img = torchvision.utils.save_image(sample_grid, 'samples.png')\n",
        "plt.imshow(Image.open('samples.png'))\n",
        "plt.show()\n"
      ],
      "execution_count": null,
      "outputs": [
        {
          "output_type": "display_data",
          "data": {
            "image/png": "[encoded data removed]",
            "text/plain": [
              "<Figure size 432x288 with 1 Axes>"
            ]
          },
          "metadata": {
            "tags": [],
            "needs_background": "light"
          }
        }
      ]
    },
    {
      "cell_type": "code",
      "metadata": {
        "id": "awxY8gtWs6Lc"
      },
      "source": [
        ""
      ],
      "execution_count": null,
      "outputs": []
    }
  ]
}